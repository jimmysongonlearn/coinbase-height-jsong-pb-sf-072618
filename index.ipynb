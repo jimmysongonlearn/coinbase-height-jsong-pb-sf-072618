{
 "cells": [
  {
   "cell_type": "markdown",
   "metadata": {},
   "source": [
    "# Coinbase Height"
   ]
  },
  {
   "cell_type": "markdown",
   "metadata": {},
   "source": [
    "### Test Driven Example"
   ]
  },
  {
   "cell_type": "code",
   "execution_count": 1,
   "metadata": {},
   "outputs": [],
   "source": [
    "from io import BytesIO\n",
    "from tx import Tx\n",
    "from helper import little_endian_to_int\n",
    "\n",
    "class Tx(Tx):\n",
    "\n",
    "    def coinbase_height(self):\n",
    "        '''Returns the height of the block this coinbase transaction is in\n",
    "        Returns None if this transaction is not a coinbase transaction\n",
    "        '''\n",
    "        # if this is NOT a coinbase transaction, return None\n",
    "        if self.is_coinbase\n",
    "        # grab the first input\n",
    "        # grab the first element of the script_sig (.script_sig.elements[0])\n",
    "        # convert the first element from little endian to int\n",
    "        pass"
   ]
  },
  {
   "cell_type": "code",
   "execution_count": null,
   "metadata": {},
   "outputs": [],
   "source": []
  }
 ],
 "metadata": {
  "kernelspec": {
   "display_name": "Python 3",
   "language": "python",
   "name": "python3"
  },
  "language_info": {
   "codemirror_mode": {
    "name": "ipython",
    "version": 3
   },
   "file_extension": ".py",
   "mimetype": "text/x-python",
   "name": "python",
   "nbconvert_exporter": "python",
   "pygments_lexer": "ipython3",
   "version": "3.6.6"
  }
 },
 "nbformat": 4,
 "nbformat_minor": 2
}
